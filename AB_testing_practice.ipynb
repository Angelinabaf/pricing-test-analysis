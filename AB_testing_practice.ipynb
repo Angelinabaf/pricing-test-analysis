{
 "cells": [
  {
   "cell_type": "markdown",
   "metadata": {},
   "source": [
    "# **Pricing Test Analysis Report**\n",
    "\n",
    "### **Introduction**\n",
    "\n",
    "This Jupyter Notebook provides an in-depth analysis of a pricing test for Company XYZ, which currently sells its software for $39. The VP of Product initiated a test to assess the impact of increasing the price to $59. This test randomly assigned 66% of users to see the original price and 33% to see the higher price. The analysis aims to determine the optimal price point by comparing revenue and conversion metrics between these two price points.\n",
    "\n",
    "### **Setup**"
   ]
  },
  {
   "cell_type": "code",
   "execution_count": 74,
   "metadata": {},
   "outputs": [],
   "source": [
    "# Import necessary libraries\n",
    "import pandas as pd\n",
    "import numpy as np\n",
    "import matplotlib.pyplot as plt\n",
    "import seaborn as sns\n",
    "from scipy import stats\n",
    "from scipy.stats import ttest_ind\n",
    "import statsmodels.stats.api as sms"
   ]
  },
  {
   "cell_type": "markdown",
   "metadata": {},
   "source": [
    "### **Data Loading and Preliminary Checks**"
   ]
  },
  {
   "cell_type": "code",
   "execution_count": 75,
   "metadata": {},
   "outputs": [
    {
     "name": "stdout",
     "output_type": "stream",
     "text": [
      "   user_id            timestamp          source  device operative_system  \\\n",
      "0   604839  2015-05-08 03:38:34    ads_facebook  mobile              iOS   \n",
      "1   624057  2015-05-10 21:08:46      seo-google  mobile          android   \n",
      "2   317970  2015-04-04 15:01:23        ads-bing  mobile          android   \n",
      "3   685636  2015-05-07 07:26:01  direct_traffic  mobile              iOS   \n",
      "4   820854  2015-05-24 11:04:40    ads_facebook     web              mac   \n",
      "\n",
      "   test  price  converted  \n",
      "0     0     39          0  \n",
      "1     0     39          0  \n",
      "2     0     39          0  \n",
      "3     1     59          0  \n",
      "4     0     39          0  \n",
      "   user_id         city country    lat    long\n",
      "0   510335      Peabody     USA  42.53  -70.97\n",
      "1    89568         Reno     USA  39.54 -119.82\n",
      "2   434134       Rialto     USA  34.11 -117.39\n",
      "3   289769  Carson City     USA  39.15 -119.74\n",
      "4   939586      Chicago     USA  41.84  -87.68\n",
      "user_id             0\n",
      "timestamp           0\n",
      "source              0\n",
      "device              0\n",
      "operative_system    0\n",
      "test                0\n",
      "price               0\n",
      "converted           0\n",
      "dtype: int64\n",
      "user_id    0\n",
      "city       0\n",
      "country    0\n",
      "lat        0\n",
      "long       0\n",
      "dtype: int64\n"
     ]
    }
   ],
   "source": [
    "# Load the datasets\n",
    "test_results_data = pd.read_csv(\"/Users/anhelinabaftalovska/Desktop/study/Pricing_Test/test_results.csv\")\n",
    "user_table_data = pd.read_csv(\"/Users/anhelinabaftalovska/Desktop/study/Pricing_Test/user_table.csv\")\n",
    "\n",
    "# Display the first few rows and check for missing values\n",
    "print(test_results_data.head())\n",
    "print(user_table_data.head())\n",
    "print(test_results_data.isnull().sum())\n",
    "print(user_table_data.isnull().sum())"
   ]
  },
  {
   "cell_type": "markdown",
   "metadata": {},
   "source": [
    "### **Merge the Data**\n",
    "\n",
    "Now that I've inspected both tables and verified that there are no missing values, I can merge **test_results** and **user_table** on the **user_id** column. This will combine the user information (location data) with the test results.\n"
   ]
  },
  {
   "cell_type": "code",
   "execution_count": 14,
   "metadata": {},
   "outputs": [
    {
     "name": "stdout",
     "output_type": "stream",
     "text": [
      "   user_id            timestamp          source  device operative_system  \\\n",
      "0   604839  2015-05-08 03:38:34    ads_facebook  mobile              iOS   \n",
      "1   624057  2015-05-10 21:08:46      seo-google  mobile          android   \n",
      "2   317970  2015-04-04 15:01:23        ads-bing  mobile          android   \n",
      "3   685636  2015-05-07 07:26:01  direct_traffic  mobile              iOS   \n",
      "4   820854  2015-05-24 11:04:40    ads_facebook     web              mac   \n",
      "\n",
      "   test  price  converted          city country    lat   long  \n",
      "0     0     39          0       Buffalo     USA  42.89 -78.86  \n",
      "1     0     39          0     Lakeville     USA  44.68 -93.24  \n",
      "2     0     39          0         Parma     USA  41.38 -81.73  \n",
      "3     1     59          0  Fayetteville     USA  35.07 -78.90  \n",
      "4     0     39          0       Fishers     USA  39.95 -86.02  \n"
     ]
    }
   ],
   "source": [
    "# Perform a left join to keep all rows from test_results\n",
    "df = pd.merge(test_results_data, user_table_data, on='user_id', how='left')\n",
    "print(df.head())"
   ]
  },
  {
   "cell_type": "code",
   "execution_count": 15,
   "metadata": {},
   "outputs": [
    {
     "name": "stdout",
     "output_type": "stream",
     "text": [
      "Missing values after left join:\n",
      " user_id                 0\n",
      "timestamp               0\n",
      "source                  0\n",
      "device                  0\n",
      "operative_system        0\n",
      "test                    0\n",
      "price                   0\n",
      "converted               0\n",
      "city                41184\n",
      "country             41184\n",
      "lat                 41184\n",
      "long                41184\n",
      "dtype: int64\n"
     ]
    }
   ],
   "source": [
    "# Check for missing values again to see which users don't have location data\n",
    "missing_values = df.isnull().sum()\n",
    "print(\"Missing values after left join:\\n\", missing_values)"
   ]
  },
  {
   "cell_type": "markdown",
   "metadata": {},
   "source": [
    "The result shows that 41,184 rows have missing values in the **city**, **country**, **lat**, and **long** columns, meaning these users were in the **test_results** table but not in the **user_table**. Let's check why we have so much missing values:"
   ]
  },
  {
   "cell_type": "code",
   "execution_count": 78,
   "metadata": {},
   "outputs": [
    {
     "name": "stdout",
     "output_type": "stream",
     "text": [
      "<class 'pandas.core.frame.DataFrame'>\n",
      "RangeIndex: 316800 entries, 0 to 316799\n",
      "Data columns (total 8 columns):\n",
      " #   Column            Non-Null Count   Dtype \n",
      "---  ------            --------------   ----- \n",
      " 0   user_id           316800 non-null  int64 \n",
      " 1   timestamp         316800 non-null  object\n",
      " 2   source            316800 non-null  object\n",
      " 3   device            316800 non-null  object\n",
      " 4   operative_system  316800 non-null  object\n",
      " 5   test              316800 non-null  int64 \n",
      " 6   price             316800 non-null  int64 \n",
      " 7   converted         316800 non-null  int64 \n",
      "dtypes: int64(4), object(4)\n",
      "memory usage: 19.3+ MB\n",
      "None\n",
      "<class 'pandas.core.frame.DataFrame'>\n",
      "RangeIndex: 275616 entries, 0 to 275615\n",
      "Data columns (total 5 columns):\n",
      " #   Column   Non-Null Count   Dtype  \n",
      "---  ------   --------------   -----  \n",
      " 0   user_id  275616 non-null  int64  \n",
      " 1   city     275616 non-null  object \n",
      " 2   country  275616 non-null  object \n",
      " 3   lat      275616 non-null  float64\n",
      " 4   long     275616 non-null  float64\n",
      "dtypes: float64(2), int64(1), object(2)\n",
      "memory usage: 10.5+ MB\n",
      "None\n"
     ]
    }
   ],
   "source": [
    "print(test_results_data.info())\n",
    "print(user_table_data.info())"
   ]
  },
  {
   "cell_type": "markdown",
   "metadata": {},
   "source": [
    "Based on the **info()** output, the key observation is that the **test_results** table has 316,800 entries, while the **user_table** has only 275,616 entries. This explains why you have so many missing values after the left join—there are 41,184 users in the **test_results** table who are not present in the **user_table**.\n",
    "\n",
    "I will impute or ignore missing location data with \"Unknown\" or a default or exclude users with missing location data from location-specific analyses if needed.\n",
    "\n",
    "### **Steps to Check Consistency Between test and price:**"
   ]
  },
  {
   "cell_type": "code",
   "execution_count": 24,
   "metadata": {},
   "outputs": [
    {
     "name": "stdout",
     "output_type": "stream",
     "text": [
      "test  price\n",
      "0     39       202517\n",
      "      59          210\n",
      "1     39          155\n",
      "      59       113918\n",
      "dtype: int64\n"
     ]
    }
   ],
   "source": [
    "# Group by test and price to check consistency\n",
    "grouped = df.groupby(['test', 'price']).size()\n",
    "\n",
    "# Display the result\n",
    "print(grouped)"
   ]
  },
  {
   "cell_type": "markdown",
   "metadata": {},
   "source": [
    "\n",
    "The groupby result reveals some inconsistencies between the test and price columns:\n",
    "\n",
    "**test = 0** (control) should only see price = 39, but there are 210 users seeing price = 59, which is incorrect.\n",
    "**test = 1** (test group) should only see price = 59, but 155 users are seeing price = 39, which is incorrect.\n",
    "\n",
    "Given the relatively low number of affected users, the approach will be to exclude them from the analysis and proceed with the assessment."
   ]
  },
  {
   "cell_type": "code",
   "execution_count": 81,
   "metadata": {},
   "outputs": [
    {
     "name": "stdout",
     "output_type": "stream",
     "text": [
      "test  price\n",
      "0     39       202517\n",
      "1     59       113918\n",
      "dtype: int64\n"
     ]
    }
   ],
   "source": [
    "# Exclude inconsistent rows where test group assignment doesn't match the price\n",
    "df = df[~(((df['test'] == 0) & (df['price'] == 59)) | ((df['test'] == 1) & (df['price'] == 39)))]\n",
    "\n",
    "# Group by test and price of the cleaned data\n",
    "grouped = df.groupby(['test', 'price']).size()\n",
    "print(grouped)"
   ]
  },
  {
   "cell_type": "markdown",
   "metadata": {},
   "source": [
    "Let's now create the revenue variable, which is the main target of this challenge."
   ]
  },
  {
   "cell_type": "code",
   "execution_count": 28,
   "metadata": {},
   "outputs": [
    {
     "name": "stdout",
     "output_type": "stream",
     "text": [
      "count    316800.000000\n",
      "mean          0.827184\n",
      "std           6.180206\n",
      "min           0.000000\n",
      "25%           0.000000\n",
      "50%           0.000000\n",
      "75%           0.000000\n",
      "max          59.000000\n",
      "Name: revenue, dtype: float64\n"
     ]
    }
   ],
   "source": [
    "# Add a column for revenue (Price * Converted)\n",
    "df['revenue'] = df['price'] * df['converted']\n",
    "print(df['revenue'].describe())"
   ]
  },
  {
   "cell_type": "markdown",
   "metadata": {},
   "source": [
    "**Insights**\n",
    "\n",
    "The majority of users are not converting, resulting in a low average revenue.\n",
    "The high number of zero values in the revenue suggests a need for further analysis of conversion rates.\n",
    "\n",
    "### **Exploratory Data Analysis**\n",
    "\n",
    "**Conversion Rates and Revenue Analysis**"
   ]
  },
  {
   "cell_type": "code",
   "execution_count": 83,
   "metadata": {},
   "outputs": [
    {
     "name": "stdout",
     "output_type": "stream",
     "text": [
      "Conversion Rate:\n",
      " test\n",
      "0    0.019900\n",
      "1    0.015555\n",
      "Name: converted, dtype: float64\n",
      "ARPU:\n",
      " test\n",
      "0    0.776083\n",
      "1    0.917748\n",
      "Name: revenue, dtype: float64\n"
     ]
    },
    {
     "data": {
      "image/png": "[encoded data removed]",
      "text/plain": [
       "<Figure size 1008x360 with 2 Axes>"
      ]
     },
     "metadata": {
      "needs_background": "light"
     },
     "output_type": "display_data"
    }
   ],
   "source": [
    "# Conversion rate\n",
    "conversion_rate = df.groupby('test')['converted'].mean()\n",
    "\n",
    "# Average Revenue Per User (ARPU)\n",
    "arpu = df.groupby('test')['revenue'].mean()\n",
    "\n",
    "print(\"Conversion Rate:\\n\", conversion_rate)\n",
    "print(\"ARPU:\\n\", arpu)\n",
    "\n",
    "# Plotting the results\n",
    "fig, axes = plt.subplots(1, 2, figsize=(14, 5))\n",
    "sns.barplot(x=conversion_rate.index, y=conversion_rate.values, ax=axes[0]).set_title('Conversion Rates by Price Group')\n",
    "sns.barplot(x=arpu.index, y=arpu.values, ax=axes[1]).set_title('Average Revenue by Price Group')\n",
    "plt.show()\n"
   ]
  },
  {
   "cell_type": "markdown",
   "metadata": {},
   "source": [
    "**Insight:** Despite a drop in conversion rate, the average revenue per user (ARPU) is higher for the test group, suggesting that the price increase leads to more revenue per user."
   ]
  },
  {
   "cell_type": "markdown",
   "metadata": {},
   "source": [
    "To check if the difference in revenue per user between the two groups (test and control) is statistically significant, I can perform a t-test. This will help determine if the observed difference is due to random chance or if it's a meaningful difference between the groups.\n",
    "\n",
    "## **Steps to perform a t-test:**\n",
    "\n",
    "**Null Hypothesis (H0):** There is no significant difference in revenue per user between the $39 and $59 price groups.\n",
    "\n",
    "**Alternative Hypothesis (H1):** There is a significant difference in revenue per user between the $39 and $59 price groups.\n",
    "\n",
    "Perform a t-test on the revenue per user for both groups.\n",
    "\n",
    "**Interpret the p-value:** If the p-value is below a chosen significance level \n",
    "(0.05), reject the null hypothesis and conclude that the difference is significant."
   ]
  },
  {
   "cell_type": "code",
   "execution_count": 91,
   "metadata": {},
   "outputs": [
    {
     "name": "stdout",
     "output_type": "stream",
     "text": [
      "T-statistic: 5.715224666463108\n",
      "P-value: 1.0972577312420781e-08\n",
      "The difference in revenue per user between the two groups is statistically significant.\n"
     ]
    }
   ],
   "source": [
    "# Filter data for both groups\n",
    "group_59 = df[df['test'] == 1]['revenue']\n",
    "group_39 = df[df['test'] == 0]['revenue']\n",
    "\n",
    "# Perform an independent t-test\n",
    "t_stat, p_value = stats.ttest_ind(group_59, group_39, equal_var=False)\n",
    "\n",
    "# Print the results\n",
    "print(f\"T-statistic: {t_stat}\")\n",
    "print(f\"P-value: {p_value}\")\n",
    "\n",
    "# Conclusion based on p-value\n",
    "if p_value < 0.05:\n",
    "    print(\"The difference in revenue per user between the two groups is statistically significant.\")\n",
    "else:\n",
    "    print(\"The difference in revenue per user between the two groups is not statistically significant.\")\n"
   ]
  },
  {
   "cell_type": "code",
   "execution_count": 92,
   "metadata": {},
   "outputs": [
    {
     "name": "stdout",
     "output_type": "stream",
     "text": [
      "T-statistic: 9.044608417898376\n",
      "P-value: 1.5119397664466364e-19\n",
      "The difference in conversion rates between the two groups is statistically significant.\n"
     ]
    }
   ],
   "source": [
    "# T-test for conversion rates\n",
    "test_group = df[df['test'] == 1]['converted']\n",
    "control_group = df[df['test'] == 0]['converted']\n",
    "\n",
    "# Perform an independent t-test\n",
    "t_stat_conv, p_value_conv = stats.ttest_ind(control_group,test_group,equal_var=False)\n",
    "\n",
    "# Print the results\n",
    "print(f\"T-statistic: {t_stat_conv}\")\n",
    "print(f\"P-value: {p_value_conv}\")\n",
    "\n",
    "# Conclusion based on p-value\n",
    "if p_value < 0.05:\n",
    "    print(\"The difference in conversion rates between the two groups is statistically significant.\")\n",
    "else:\n",
    "    print(\"The difference in conversion rates between the two groups is not statistically significant.\")\n"
   ]
  },
  {
   "cell_type": "markdown",
   "metadata": {},
   "source": [
    "### **Segment Analysis**\n",
    "\n",
    "Let's analyze revenue per user across different devices and traffic sources."
   ]
  },
  {
   "cell_type": "code",
   "execution_count": 44,
   "metadata": {},
   "outputs": [
    {
     "data": {
      "image/png": "[encoded data removed]",
      "text/plain": [
       "<Figure size 720x432 with 1 Axes>"
      ]
     },
     "metadata": {
      "needs_background": "light"
     },
     "output_type": "display_data"
    }
   ],
   "source": [
    "# Group by  'device' and test (price) and calculate mean conversion and revenue\n",
    "segment_analysis = df.groupby(['device', 'test']).agg({'converted': 'mean', 'revenue': 'mean'}).reset_index()\n",
    "\n",
    "\n",
    "# Plot revenue per user by device and price\n",
    "plt.figure(figsize=(10, 6))\n",
    "sns.barplot(x='device', y='revenue', hue='test', data=segment_analysis)\n",
    "plt.title('Average Revenue per User by Device and Price')\n",
    "plt.ylabel('Revenue per User')\n",
    "plt.xlabel('Device Type')\n",
    "plt.legend(title='Price ($)')\n",
    "plt.show()"
   ]
  },
  {
   "cell_type": "markdown",
   "metadata": {},
   "source": [
    "Devices (such as mobile and web) seem to show different responses to pricing, potentially indicating that certain device users are more price-sensitive."
   ]
  },
  {
   "cell_type": "code",
   "execution_count": 45,
   "metadata": {},
   "outputs": [
    {
     "data": {
      "image/png": "[encoded data removed]",
      "text/plain": [
       "<Figure size 864x432 with 1 Axes>"
      ]
     },
     "metadata": {
      "needs_background": "light"
     },
     "output_type": "display_data"
    }
   ],
   "source": [
    "# Group by source and test (price) to calculate mean conversion and revenue\n",
    "source_analysis = df.groupby(['source', 'test']).agg({'converted': 'mean', 'revenue': 'mean'}).reset_index()\n",
    "\n",
    "\n",
    "# Plot revenue per user by source and price\n",
    "plt.figure(figsize=(12, 6))\n",
    "sns.barplot(x='source', y='revenue', hue='test', data=source_analysis)\n",
    "plt.title('Average Revenue per User by Source and Price')\n",
    "plt.ylabel('Revenue per User')\n",
    "plt.xlabel('Traffic Source')\n",
    "plt.legend(title='Price ($)')\n",
    "plt.xticks(rotation=45)\n",
    "plt.show()\n"
   ]
  },
  {
   "cell_type": "markdown",
   "metadata": {},
   "source": [
    "There is a clear variation across traffic sources, suggesting that some acquisition channels may convert better with the lower price, while others might still perform well with the higher price."
   ]
  },
  {
   "cell_type": "code",
   "execution_count": 46,
   "metadata": {},
   "outputs": [
    {
     "data": {
      "text/plain": [
       "<Figure size 720x432 with 0 Axes>"
      ]
     },
     "metadata": {},
     "output_type": "display_data"
    },
    {
     "data": {
      "image/png": "[encoded data removed]",
      "text/plain": [
       "<Figure size 720x432 with 1 Axes>"
      ]
     },
     "metadata": {
      "needs_background": "light"
     },
     "output_type": "display_data"
    }
   ],
   "source": [
    "# Group by test and operative system to calculate mean revenue\n",
    "operative_system_revenue = df.groupby(['operative_system', 'test'])['revenue'].mean().unstack()\n",
    "\n",
    "# Plot revenue by operative system, comparing test (0: control, 1: test group)\n",
    "plt.figure(figsize=(10, 6))\n",
    "operative_system_revenue.plot(kind='bar', figsize=(10, 6), color=['#1f77b4', '#ff7f0e'])\n",
    "plt.title('Average Revenue by Operative System (Control vs Test)')\n",
    "plt.ylabel('Average Revenue')\n",
    "plt.xlabel('Operative System')\n",
    "plt.xticks(rotation=0)\n",
    "plt.legend(['Control ($39)', 'Test ($59)'], title='Group', loc='best')\n",
    "plt.show()\n"
   ]
  },
  {
   "cell_type": "markdown",
   "metadata": {},
   "source": [
    "Looks like Linux has 0 convertion.\n",
    "To investigate the Linux users further, let's break down the data to see how Linux users performed in both the test and control groups. Specifically, we can check the number of users in each group, their conversion rates, and revenue patterns."
   ]
  },
  {
   "cell_type": "code",
   "execution_count": 47,
   "metadata": {},
   "outputs": [
    {
     "name": "stdout",
     "output_type": "stream",
     "text": [
      "Linux Group Counts:\n",
      "test\n",
      "0    2207\n",
      "1    1928\n",
      "dtype: int64\n",
      "\n",
      "Linux Conversion Rates:\n",
      "test\n",
      "0    0.015406\n",
      "1    0.000000\n",
      "Name: converted, dtype: float64\n",
      "\n",
      "Linux Revenue per User:\n",
      "test\n",
      "0    0.600816\n",
      "1    0.000000\n",
      "Name: revenue, dtype: float64\n",
      "\n"
     ]
    }
   ],
   "source": [
    "# Filter data for Linux users only\n",
    "linux_data = df[df['operative_system'] == 'linux']\n",
    "\n",
    "# Analyze the number of users in each group (test and control) for Linux\n",
    "linux_group_counts = linux_data.groupby('test').size()\n",
    "\n",
    "# Analyze conversion rates for Linux users in both groups\n",
    "linux_conversion_rate = linux_data.groupby('test')['converted'].mean()\n",
    "\n",
    "# Analyze revenue for Linux users in both groups\n",
    "linux_revenue = linux_data.groupby('test')['revenue'].mean()\n",
    "\n",
    "# Print the results\n",
    "print(f\"Linux Group Counts:\\n{linux_group_counts}\\n\")\n",
    "print(f\"Linux Conversion Rates:\\n{linux_conversion_rate}\\n\")\n",
    "print(f\"Linux Revenue per User:\\n{linux_revenue}\\n\")"
   ]
  },
  {
   "cell_type": "markdown",
   "metadata": {},
   "source": [
    "#### **Insights:**\n",
    "**Price Sensitivity:** The 0% conversion rate for the test group ($59 price) indicates that Linux users are highly price-sensitive. Not a single user in the test group made a purchase, while 1.54% of Linux users converted at the $39 price.\n",
    "\n",
    "**Revenue Impact:** The average revenue per Linux user is $0.60 in the control group but drops to $0.00 in the test group. This highlights that Linux users contribute significantly less revenue at the higher price point.\n",
    "\n",
    "\n",
    "To check if the low conversion rate for Linux users could potentially be due to a bug in the data, let's first calculate the percentage of Linux users in the entire dataset. Then, if they represent a small percentage, we can redo the analysis excluding Linux users to see if the results significantly change.\n",
    "\n",
    "### **Calculate the Percentage of Linux Users**"
   ]
  },
  {
   "cell_type": "code",
   "execution_count": 52,
   "metadata": {},
   "outputs": [
    {
     "name": "stdout",
     "output_type": "stream",
     "text": [
      "Percentage of Linux users: 1.31%\n"
     ]
    }
   ],
   "source": [
    "# Calculate total number of users\n",
    "total_users = df.shape[0]\n",
    "\n",
    "# Calculate total number of Linux users\n",
    "total_linux_users = df[df['operative_system'] == 'linux'].shape[0]\n",
    "\n",
    "# Calculate percentage of Linux users\n",
    "linux_percentage = (total_linux_users / total_users) * 100\n",
    "print(f\"Percentage of Linux users: {linux_percentage:.2f}%\")\n"
   ]
  },
  {
   "cell_type": "markdown",
   "metadata": {},
   "source": [
    "**Redo the Analysis Without Linux Users (Revenue per User and Conversion Rate)**"
   ]
  },
  {
   "cell_type": "code",
   "execution_count": 53,
   "metadata": {},
   "outputs": [
    {
     "name": "stdout",
     "output_type": "stream",
     "text": [
      "Revenue per user without Linux users:\n",
      "test\n",
      "0    0.778670\n",
      "1    0.932605\n",
      "Name: revenue, dtype: float64\n",
      "\n",
      "Conversion rates without Linux users:\n",
      "test\n",
      "0    0.019953\n",
      "1    0.015810\n",
      "Name: converted, dtype: float64\n",
      "\n",
      "T-statistic without Linux users: 6.126075169294152\n",
      "P-value without Linux users: 9.025673650037533e-10\n"
     ]
    }
   ],
   "source": [
    "# Filter out Linux users\n",
    "df_no_linux = df[df['operative_system'] != 'linux']\n",
    "\n",
    "# Calculate revenue per user for control and test groups without Linux users\n",
    "revenue_per_user_no_linux = df_no_linux.groupby('test')['revenue'].mean()\n",
    "\n",
    "# Print revenue per user without Linux users\n",
    "print(\"Revenue per user without Linux users:\")\n",
    "print(revenue_per_user_no_linux)\n",
    "\n",
    "# Calculate conversion rates for control and test groups without Linux users\n",
    "conversion_rate_no_linux = df_no_linux.groupby('test')['converted'].mean()\n",
    "\n",
    "# Print conversion rates without Linux users\n",
    "print(\"\\nConversion rates without Linux users:\")\n",
    "print(conversion_rate_no_linux)\n",
    "\n",
    "# Perform a t-test on revenue per user between the control and test groups without Linux users\n",
    "from scipy.stats import ttest_ind\n",
    "\n",
    "group_39_no_linux = df_no_linux[df_no_linux['test'] == 0]['revenue']\n",
    "group_59_no_linux = df_no_linux[df_no_linux['test'] == 1]['revenue']\n",
    "\n",
    "# Perform a t-test on revenue per user between the test and control groups without Linux users, swapping the groups\n",
    "t_statistic_no_linux, p_value_no_linux = ttest_ind(group_59_no_linux, group_39_no_linux, equal_var=False)\n",
    "\n",
    "# Display t-test results\n",
    "print(f\"\\nT-statistic without Linux users: {t_statistic_no_linux}\")\n",
    "print(f\"P-value without Linux users: {p_value_no_linux}\")\n"
   ]
  },
  {
   "cell_type": "markdown",
   "metadata": {},
   "source": [
    "The average **revenue per user** is still higher in the test group ($59 price) than in the control group ($39 price). This suggests that even without Linux users, the higher price point generates more revenue per user.\n",
    "\n",
    "The **conversion rate** is slightly lower in the test group, as expected, but there is still a reasonable percentage of users willing to purchase at the higher price.\n",
    "\n",
    "The **p-value** is still very low (well below 0.05), meaning the difference in revenue per user between the $39 and $59 groups is **statistically significant**, even without Linux users."
   ]
  },
  {
   "cell_type": "code",
   "execution_count": 72,
   "metadata": {},
   "outputs": [
    {
     "data": {
      "text/plain": [
       "<Figure size 720x432 with 0 Axes>"
      ]
     },
     "metadata": {},
     "output_type": "display_data"
    },
    {
     "data": {
      "image/png": "[encoded data removed]",
      "text/plain": [
       "<Figure size 720x432 with 1 Axes>"
      ]
     },
     "metadata": {
      "needs_background": "light"
     },
     "output_type": "display_data"
    }
   ],
   "source": [
    "# Filter out Linux users\n",
    "df_no_linux = df[df['operative_system'] != 'linux']\n",
    "\n",
    "# Group by test and operative system to calculate mean revenue without Linux users\n",
    "operative_system_revenue_no_linux = df_no_linux.groupby(['operative_system', 'test'])['revenue'].mean().unstack()\n",
    "\n",
    "# Plot revenue by operative system, comparing test and control groups\n",
    "plt.figure(figsize=(10, 6))\n",
    "operative_system_revenue_no_linux.plot(kind='bar', figsize=(10, 6), color=['#1f77b4', '#ff7f0e'])\n",
    "plt.title('Average Revenue by Operative System (Control vs Test, without Linux)')\n",
    "plt.ylabel('Average Revenue')\n",
    "plt.xlabel('Operative System')\n",
    "plt.xticks(rotation=0)\n",
    "plt.legend(['Control ($39)', 'Test ($59)'], title='Group', loc='best')\n",
    "plt.show()\n"
   ]
  },
  {
   "cell_type": "markdown",
   "metadata": {},
   "source": [
    "Since Linux users represent only 1.31% of the dataset and excluding them does not change the outcome substantially, it’s likely not a bug in the data but rather a genuine result that Linux users are more price-sensitive."
   ]
  },
  {
   "cell_type": "markdown",
   "metadata": {},
   "source": [
    "### **Get the Top 10 Cities by User Count**\n",
    "\n",
    "Let's check the top 10 cities in terms of user base and analyze the revenue per user and conversion rates for these cities\n"
   ]
  },
  {
   "cell_type": "code",
   "execution_count": 56,
   "metadata": {},
   "outputs": [
    {
     "name": "stdout",
     "output_type": "stream",
     "text": [
      "Top 10 cities by user count:\n",
      "Index(['New York', 'Chicago', 'Houston', 'San Antonio', 'Los Angeles',\n",
      "       'San Jose', 'Indianapolis', 'Jacksonville', 'Philadelphia',\n",
      "       'Las Vegas'],\n",
      "      dtype='object')\n"
     ]
    }
   ],
   "source": [
    "# Get the top 10 cities by user count\n",
    "top_10_cities = df_no_linux['city'].value_counts().head(10).index\n",
    "\n",
    "# Filter data to include only the top 10 cities\n",
    "df_top_10_cities = df_no_linux[df_no_linux['city'].isin(top_10_cities)]\n",
    "\n",
    "# Display the top 10 cities\n",
    "print(f\"Top 10 cities by user count:\\n{top_10_cities}\")\n"
   ]
  },
  {
   "cell_type": "code",
   "execution_count": 102,
   "metadata": {},
   "outputs": [
    {
     "name": "stdout",
     "output_type": "stream",
     "text": [
      "            city  test   revenue  converted\n",
      "0       San Jose     1  1.153094   0.019544\n",
      "1       San Jose     0  0.634146   0.016260\n",
      "2    San Antonio     1  0.915274   0.015513\n",
      "3    San Antonio     0  0.798127   0.020465\n",
      "4   Philadelphia     1  0.745121   0.012629\n",
      "5   Philadelphia     0  0.840000   0.021538\n",
      "6       New York     1  0.889086   0.015069\n",
      "7       New York     0  0.725040   0.018591\n",
      "8    Los Angeles     1  0.916892   0.015541\n",
      "9    Los Angeles     0  0.820581   0.021041\n",
      "10     Las Vegas     1  1.060674   0.017978\n",
      "11     Las Vegas     0  0.655683   0.016812\n",
      "12  Jacksonville     1  0.827655   0.014028\n",
      "13  Jacksonville     0  0.647563   0.016604\n",
      "14  Indianapolis     1  0.763589   0.012942\n",
      "15  Indianapolis     0  0.578349   0.014829\n",
      "16       Houston     1  0.908826   0.015404\n",
      "17       Houston     0  0.758719   0.019454\n",
      "18       Chicago     1  0.814274   0.013801\n",
      "19       Chicago     0  0.557879   0.014305\n"
     ]
    }
   ],
   "source": [
    "# Group by city and test to calculate mean revenue and conversion rate\n",
    "city_analysis = df_top_10_cities.groupby(['city', 'test']).agg({\n",
    "    'revenue': 'mean',\n",
    "    'converted': 'mean'\n",
    "}).sort_values('city', ascending=False).reset_index().head(20)\n",
    "\n",
    "\n",
    "# Print the revenue and conversion rates for top 10 cities\n",
    "print(city_analysis)\n"
   ]
  },
  {
   "cell_type": "code",
   "execution_count": 103,
   "metadata": {},
   "outputs": [
    {
     "data": {
      "image/png": "[encoded data removed]",
      "text/plain": [
       "<Figure size 864x432 with 1 Axes>"
      ]
     },
     "metadata": {
      "needs_background": "light"
     },
     "output_type": "display_data"
    }
   ],
   "source": [
    "# Plot revenue per user for the top 10 cities, comparing control and test groups\n",
    "plt.figure(figsize=(12, 6))\n",
    "sns.barplot(x='city', y='revenue', hue='test', data=city_analysis, palette=['#1f77b4', '#ff7f0e'])\n",
    "plt.title('Average Revenue by City (Top 10, Control vs Test)')\n",
    "plt.ylabel('Average Revenue')\n",
    "plt.xlabel('City')\n",
    "plt.xticks(rotation=45)\n",
    "plt.legend(title='Price ($)')\n",
    "plt.show()\n"
   ]
  },
  {
   "cell_type": "code",
   "execution_count": 104,
   "metadata": {},
   "outputs": [
    {
     "data": {
      "image/png": "[encoded data removed]",
      "text/plain": [
       "<Figure size 864x432 with 1 Axes>"
      ]
     },
     "metadata": {
      "needs_background": "light"
     },
     "output_type": "display_data"
    }
   ],
   "source": [
    "# Plot conversion rates for the top 10 cities, comparing control and test groups\n",
    "plt.figure(figsize=(12, 6))\n",
    "sns.barplot(x='city', y='converted', hue='test', data=city_analysis, palette=['#1f77b4', '#ff7f0e'])\n",
    "plt.title('Conversion Rates by City (Top 10, Control vs Test)')\n",
    "plt.ylabel('Conversion Rate')\n",
    "plt.xlabel('City')\n",
    "plt.xticks(rotation=45)\n",
    "plt.legend(title='Price ($)')\n",
    "plt.show()\n"
   ]
  },
  {
   "cell_type": "markdown",
   "metadata": {},
   "source": [
    "#### **Revenue per User:**\n",
    "\n",
    "In most cities, the *test group ($59)* shows higher revenue per user compared to the *control group ($39)*. This indicates that despite a slight drop in conversion rates, users in these cities are generating more revenue at the higher price.\n",
    "    \n",
    "##### **Notable cities with the highest test group revenue:**\n",
    "*San Jose:* $1.15 revenue per user (compared to $0.63 at $39).\n",
    "\n",
    "*Las Vegas:* $1.06 revenue per user (compared to $0.65 at $39).\n",
    "\n",
    "#### **Conversion Rates:**\n",
    "In general, conversion rates are slightly lower in the test group, which is expected when the price is higher.\n"
   ]
  },
  {
   "cell_type": "markdown",
   "metadata": {},
   "source": [
    "## After how many days you would have stopped the test?\n",
    "To determine the appropriate duration for running a test, need to establish the minimum sample size required per group. This calculation hinges on defining the detectable effect size we aim to observe. \n",
    "\n",
    "Assuming a standard significance level of 0.05 and a power of 0.8, let's consider detecting a difference in conversion rates of approximately 33%, equivalent to a change from a 39% to a 59% conversion rate (1 - $39/$59). This means we aim to detect if the new conversion rate is about 66% of the old rate.\n"
   ]
  },
  {
   "cell_type": "code",
   "execution_count": 106,
   "metadata": {},
   "outputs": [
    {
     "name": "stdout",
     "output_type": "stream",
     "text": [
      "The required sample size per group is ~ 5548\n"
     ]
    }
   ],
   "source": [
    "conversion_rate_control = test_results_data.query('test==0').converted.mean()\n",
    "p1_and_p2 = sms.proportion_effectsize(conversion_rate_control, conversion_rate_control*39/59)\n",
    "sample_size = round(sms.NormalIndPower().solve_power(p1_and_p2, power=0.8, alpha=0.05))\n",
    "print(\"The required sample size per group is ~\", sample_size)"
   ]
  },
  {
   "cell_type": "code",
   "execution_count": 107,
   "metadata": {},
   "outputs": [
    {
     "name": "stdout",
     "output_type": "stream",
     "text": [
      "Avg number of users per week is: 24356\n"
     ]
    }
   ],
   "source": [
    "#create a column that's week of the year\n",
    "test_results_data['week_year'] = pd.to_datetime(test_results_data.timestamp.str.split(' ').str[0]).dt.strftime('%W')\n",
    "#take avg count of users per week. We remove first and last week, just in case they don't include all 7 days\n",
    "users_week = test_results_data['week_year'].value_counts().sort_index()\n",
    "users_week = users_week.drop(users_week.index[[0,(users_week.shape[0]-1)]]).mean()\n",
    "  \n",
    "print(\"Avg number of users per week is:\", round(users_week))"
   ]
  },
  {
   "cell_type": "code",
   "execution_count": 108,
   "metadata": {},
   "outputs": [
    {
     "name": "stdout",
     "output_type": "stream",
     "text": [
      "The test would need to run for approximately 0.46 weeks.\n"
     ]
    }
   ],
   "source": [
    "# Sample size required for both groups (control + test)\n",
    "total_required_users = 5548 * 2  # 5548 users per group\n",
    "\n",
    "# Avg number of users per week\n",
    "users_per_week = 24356\n",
    "\n",
    "# Calculate the number of weeks needed to get enough users\n",
    "weeks_needed = total_required_users / users_per_week\n",
    "\n",
    "print(f\"The test would need to run for approximately {weeks_needed:.2f} weeks.\")\n"
   ]
  },
  {
   "cell_type": "markdown",
   "metadata": {},
   "source": [
    "The test could have been completed in just 3.2 days, assuming a consistent flow of users and no interruptions.\n",
    "\n",
    "But it's advisable to run the test for at least two weeks to capture weekly patterns effectively. \n",
    "\n",
    "In terms of the percentage split between test and control groups, we need to determine the minimum percentage of users in the test group required to achieve the necessary sample size within two weeks.\n"
   ]
  },
  {
   "cell_type": "code",
   "execution_count": 69,
   "metadata": {},
   "outputs": [
    {
     "name": "stdout",
     "output_type": "stream",
     "text": [
      "The minimum percentage of users needed in the test group is ~11.39%.\n"
     ]
    }
   ],
   "source": [
    "# Required sample size per group\n",
    "required_sample_size_per_group = 5548\n",
    "\n",
    "# Total number of users in two weeks\n",
    "total_users_in_two_weeks = 24356 * 2  # Avg users per week * 2 weeks\n",
    "\n",
    "# Calculate the minimum percentage of users in the test group to reach the required sample size\n",
    "min_percentage_test_group = (required_sample_size_per_group / total_users_in_two_weeks) * 100\n",
    "\n",
    "# Print the result\n",
    "print(f\"The minimum percentage of users needed in the test group is ~{min_percentage_test_group:.2f}%.\")\n"
   ]
  },
  {
   "cell_type": "markdown",
   "metadata": {},
   "source": [
    "# **Conclusions and Recommendations**\n",
    "#### **Conclusions**\n",
    "The analysis confirmed that increasing the software's price from $39 to $59 increases average revenue per user despite a slight drop in conversion rates. This difference in revenue is statistically significant, suggesting that the higher price is more profitable.\n",
    "\n",
    "#### **Recommendations**\n",
    "Based on the findings from this analysis, we recommend the following actions:\n",
    "\n",
    "**Implement the $59 Price Point:** The higher price yields more revenue despite fewer conversions. Monitor long-term impacts on user retention and acquisition.\n",
    "\n",
    "**Targeted Strategies for Sensitive Segments:** For segments adversely impacted by the price increase, consider maintaining the $39 price or introducing targeted discounts.\n",
    "\n",
    "**Continuous Monitoring and Testing:**  Regularly evaluate the impact of the pricing strategy on various metrics and conduct further segmented tests to refine the approach\n",
    "\n",
    "#### **Test Duration Analysis:** \n",
    "Based on the calculated sample size and average user traffic, the pricing test could reach statistical significance in just 3.2 days. However, to account for weekly variations and ensure robust results, it is advisable to run the test for at least two weeks. This period allows for capturing user behavior patterns that could influence the test outcomes.\n",
    "\n",
    "To ensure adequate data within two weeks, about 11.39% of users should be included in the test group. This allocation guarantees that both the control and test groups are sufficiently large to validate the results of the pricing strategy effectively."
   ]
  }
 ],
 "metadata": {
  "kernelspec": {
   "display_name": "base",
   "language": "python",
   "name": "python3"
  },
  "language_info": {
   "codemirror_mode": {
    "name": "ipython",
    "version": 3
   },
   "file_extension": ".py",
   "mimetype": "text/x-python",
   "name": "python",
   "nbconvert_exporter": "python",
   "pygments_lexer": "ipython3",
   "version": "3.8.5"
  }
 },
 "nbformat": 4,
 "nbformat_minor": 2
}
